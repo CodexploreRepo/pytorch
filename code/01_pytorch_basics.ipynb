{
 "cells": [
  {
   "cell_type": "markdown",
   "metadata": {},
   "source": [
    "# 1. Py Torch Basics\n",
    "### 1.1. Bascis Functions\n",
    "- `.size()`:\n",
    "- `.item()`: to get 1 element from Tensor\n",
    "- Reshape: `.view()`\n",
    "    ```Python\n",
    "    # Reshape with torch.view()\n",
    "    x = torch.randn(4, 4)\n",
    "    y = x.view(16)     # resize 2-D (4,4) to 1-D (16)\n",
    "    z = x.view(-1, 8)  # the size -1 is inferred from other dimensions\n",
    "    # if -1 it pytorch will automatically determine the necessary size\n",
    "    print(x.size(), y.size(), z.size())\n",
    "    ```\n",
    "\n",
    "### 1.2. Inplace Operation for Tensors\n",
    "- In Pytorch, function followed by `_` means inplace-operation\n",
    "- `y.add_(x)`: will add x to y\n",
    "\n",
    "### 1.3. Slicing:\n",
    "```Python\n",
    "x = torch.rand(5,3)\n",
    "print(x)\n",
    "print(x[:, 0]) # all rows, column 0\n",
    "print(x[1, :]) # row 1, all columns\n",
    "print(x[1,1]) # element at 1, 1\n",
    "```\n",
    "\n",
    "### 1.4. Tensor & Numpy conversion\n",
    "```Python\n",
    "#From Torch to Numpy\n",
    "a = torch.ones(5)\n",
    "b = a.numpy()\n",
    "print(f\"From T to N: {type(a)} > {type(b)}\") #<class 'torch.Tensor'> <class 'numpy.ndarray'>\n",
    "\n",
    "#From Numpy to Torch\n",
    "c = np.ones(5)\n",
    "d = torch.from_numpy(c)\n",
    "print(f\"From N to T: {type(c)} > {type(d)}\") #<class 'numpy.ndarray'> > <class 'torch.Tensor'>\n",
    "```\n",
    "\n",
    "### 1.5. Move Tensor from CPU to GPU\n",
    "```Python\n",
    "if torch.cuda.is_available():\n",
    "    device = torch.device(\"cuda\")          # a CUDA device object\n",
    "    #=== From CPU to GPU ===\n",
    "    #Method 1: directly create a tensor on GPU\n",
    "    x = torch.ones(5, device = device) \n",
    "    #Method 2: just use strings ``.to(\"cuda\")``\n",
    "    y = torch.ones(5)\n",
    "    y.to(device)\n",
    "\n",
    "    #=== From GPU to CPU ===\n",
    "    z = x + y #where x & y is in GPU\n",
    "    z = z.to(\"cpu\")\n",
    "```\n",
    "\n",
    "### 1.6. Require Gradient\n",
    "```Python\n",
    "x = torch.ones(5, requires_grad = True)\n",
    "print(x) #tensor([1., 1., 1., 1., 1.], requires_grad=True)\n",
    "```"
   ]
  },
  {
   "cell_type": "code",
   "execution_count": 14,
   "metadata": {},
   "outputs": [],
   "source": [
    "import torch\n",
    "import numpy as np"
   ]
  },
  {
   "cell_type": "markdown",
   "metadata": {},
   "source": [
    "## Rand"
   ]
  },
  {
   "cell_type": "code",
   "execution_count": 3,
   "metadata": {},
   "outputs": [],
   "source": [
    "x = torch.rand(2,2)\n",
    "y = torch.rand(2,2)"
   ]
  },
  {
   "cell_type": "code",
   "execution_count": 5,
   "metadata": {},
   "outputs": [
    {
     "data": {
      "text/plain": [
       "tensor([[0.8182, 1.0984],\n",
       "        [0.4727, 1.2381]])"
      ]
     },
     "execution_count": 5,
     "metadata": {},
     "output_type": "execute_result"
    }
   ],
   "source": [
    "z = x+y\n",
    "z"
   ]
  },
  {
   "cell_type": "code",
   "execution_count": 8,
   "metadata": {},
   "outputs": [
    {
     "data": {
      "text/plain": [
       "tensor([[0.8835, 1.4329],\n",
       "        [1.2530, 2.8857]])"
      ]
     },
     "execution_count": 8,
     "metadata": {},
     "output_type": "execute_result"
    }
   ],
   "source": [
    "y.add_(x)"
   ]
  },
  {
   "cell_type": "code",
   "execution_count": 10,
   "metadata": {},
   "outputs": [
    {
     "data": {
      "text/plain": [
       "1.432852029800415"
      ]
     },
     "execution_count": 10,
     "metadata": {},
     "output_type": "execute_result"
    }
   ],
   "source": [
    "y[0,1].item()"
   ]
  },
  {
   "cell_type": "markdown",
   "metadata": {},
   "source": [
    "## Tensor & Numpy conversion"
   ]
  },
  {
   "cell_type": "code",
   "execution_count": 18,
   "metadata": {},
   "outputs": [
    {
     "name": "stdout",
     "output_type": "stream",
     "text": [
      "From T to N: <class 'torch.Tensor'> > <class 'numpy.ndarray'>\n",
      "From N to T: <class 'numpy.ndarray'> > <class 'torch.Tensor'>\n"
     ]
    }
   ],
   "source": [
    "#From Torch to Numpy\n",
    "a = torch.ones(5)\n",
    "b = a.numpy()\n",
    "print(f\"From T to N: {type(a)} > {type(b)}\") #<class 'torch.Tensor'> <class 'numpy.ndarray'>\n",
    "\n",
    "#From Numpy to Torch\n",
    "c = np.ones(5)\n",
    "d = torch.from_numpy(c)\n",
    "print(f\"From N to T: {type(c)} > {type(d)}\") #<class 'numpy.ndarray'> > <class 'torch.Tensor'>\n"
   ]
  },
  {
   "cell_type": "code",
   "execution_count": 19,
   "metadata": {},
   "outputs": [
    {
     "name": "stdout",
     "output_type": "stream",
     "text": [
      "tensor([1., 1., 1., 1., 1.], requires_grad=True)\n"
     ]
    }
   ],
   "source": [
    "x = torch.ones(5, requires_grad = True)\n",
    "print(x)"
   ]
  }
 ],
 "metadata": {
  "interpreter": {
   "hash": "c111c98ab16bb2146b3750ff96300d2ea24b959b05391bbc2c1f7544a5d2c2ae"
  },
  "kernelspec": {
   "display_name": "Python 3.9.7 ('pytorch')",
   "language": "python",
   "name": "python3"
  },
  "language_info": {
   "codemirror_mode": {
    "name": "ipython",
    "version": 3
   },
   "file_extension": ".py",
   "mimetype": "text/x-python",
   "name": "python",
   "nbconvert_exporter": "python",
   "pygments_lexer": "ipython3",
   "version": "3.9.7"
  },
  "orig_nbformat": 4
 },
 "nbformat": 4,
 "nbformat_minor": 2
}
