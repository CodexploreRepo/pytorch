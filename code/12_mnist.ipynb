{
 "cells": [
  {
   "cell_type": "markdown",
   "metadata": {},
   "source": [
    "# MNIST Handwritten Digit Recognition in PyTorch"
   ]
  },
  {
   "cell_type": "markdown",
   "metadata": {},
   "source": [
    "# 1. Import Module"
   ]
  },
  {
   "cell_type": "code",
   "execution_count": 25,
   "metadata": {},
   "outputs": [],
   "source": [
    "import torch\n",
    "import torch.nn as nn\n",
    "import torch.nn.functional as F\n",
    "\n",
    "import torch.optim as optim\n",
    "from torch.optim.lr_scheduler import StepLR\n",
    "\n",
    "from torch.utils.data import DataLoader\n",
    "\n",
    "from torchvision import datasets, transforms\n"
   ]
  },
  {
   "cell_type": "markdown",
   "metadata": {},
   "source": [
    "# 2. Import Data"
   ]
  },
  {
   "cell_type": "code",
   "execution_count": 34,
   "metadata": {},
   "outputs": [
    {
     "data": {
      "text/plain": [
       "<torch._C.Generator at 0x7f176022e5d0>"
      ]
     },
     "execution_count": 34,
     "metadata": {},
     "output_type": "execute_result"
    }
   ],
   "source": [
    "batch_size_train = 64\n",
    "batch_size_test = 1000\n",
    "\n",
    "random_seed = 2022\n",
    "#cuDNN uses nondeterministic algorithms which can be disabled\n",
    "torch.backends.cudnn.enabled = False\n",
    "torch.manual_seed(random_seed)"
   ]
  },
  {
   "cell_type": "code",
   "execution_count": 28,
   "metadata": {},
   "outputs": [],
   "source": [
    "# 4. Setup data\n",
    "transform = transforms.Compose([\n",
    "    transforms.ToTensor(),\n",
    "    transforms.Normalize((0.1307,), (0.3081,)) #global mean = 0.1307 and standard deviation = 0.3081  of the MNIST dataset\n",
    "])\n",
    "train_dataset = datasets.MNIST('./data', train=True, download=False, transform=transform)\n",
    "train_loader = DataLoader(train_dataset, batch_size=batch_size_train, shuffle=True)\n",
    "\n",
    "test_dataset = datasets.MNIST('./data', train=False, download=False, transform=transform)\n",
    "test_loader = DataLoader(test_dataset, batch_size=batch_size_train, shuffle=True)\n",
    "\n",
    "n_total_steps = len(train_loader)"
   ]
  },
  {
   "cell_type": "code",
   "execution_count": 31,
   "metadata": {},
   "outputs": [
    {
     "data": {
      "image/png": "[encoded data removed]",
      "text/plain": [
       "<Figure size 432x288 with 6 Axes>"
      ]
     },
     "metadata": {},
     "output_type": "display_data"
    }
   ],
   "source": [
    "import matplotlib.pyplot as plt\n",
    "\n",
    "examples = iter(test_loader)\n",
    "example_data, example_targets = next(examples)\n",
    "\n",
    "fig = plt.figure()\n",
    "for i in range(6):\n",
    "  plt.subplot(2,3,i+1)\n",
    "  plt.tight_layout()\n",
    "  plt.imshow(example_data[i][0], cmap='gray', interpolation='none')\n",
    "  plt.title(\"Ground Truth: {}\".format(example_targets[i]))\n",
    "  plt.xticks([])\n",
    "  plt.yticks([])"
   ]
  },
  {
   "cell_type": "markdown",
   "metadata": {},
   "source": [
    "# 2. Training"
   ]
  },
  {
   "cell_type": "code",
   "execution_count": 32,
   "metadata": {},
   "outputs": [],
   "source": [
    "# 1. Build a computation graph\n",
    "class ConvNet(nn.Module):\n",
    "    def __init__(self):\n",
    "        super(ConvNet, self).__init__()\n",
    "        self.conv1 = nn.Conv2d(1,10, kernel_size=5)\n",
    "        self.conv2 = nn.Conv2d(10, 20, kernel_size=5)\n",
    "        self.conv2_drop = nn.Dropout2d()\n",
    "        self.fc1 = nn.Linear(320, 50)\n",
    "        self.fc2 = nn.Linear(50, 10)\n",
    "\n",
    "    def forward(self, x):\n",
    "        x = F.relu(F.max_pool2d(self.conv1(x), 2))\n",
    "        x = F.relu(F.max_pool2d(self.conv2_drop(self.conv2(x)), 2))\n",
    "        x = F.max_pool2d(x, 1)\n",
    "        \n",
    "        x = torch.flatten(x, 1)\n",
    "        \n",
    "        x = F.relu(self.fc1(x))\n",
    "        x = F.dropout(x, training=self.training)\n",
    "        x = self.fc2(x)\n",
    "        output = F.log_softmax(x) #normalizes all of the values in a vector, so that the values sum to 1.\n",
    "        return output\n"
   ]
  },
  {
   "cell_type": "code",
   "execution_count": 35,
   "metadata": {},
   "outputs": [],
   "source": [
    "#learning_rate and momentum are hyperparameters for the optimizer\n",
    "n_epochs = 4\n",
    "learning_rate = 0.01\n",
    "momentum = 0.5"
   ]
  },
  {
   "cell_type": "code",
   "execution_count": 38,
   "metadata": {},
   "outputs": [],
   "source": [
    "model = ConvNet()\n",
    "criterion = nn.NLLLoss() #negative log likelihood\n",
    "optimizer = optim.SGD(model.parameters(), \n",
    "                      lr=learning_rate,\n",
    "                      momentum=momentum)"
   ]
  },
  {
   "cell_type": "code",
   "execution_count": null,
   "metadata": {},
   "outputs": [],
   "source": [
    "\n",
    "  \n",
    "    \n",
    "    \n",
    "    \n",
    "    \n",
    "        output = model(data)\n",
    "        loss = criterion(output, target)\n",
    "        \n",
    "        optimizer.zero_grad()\n",
    "        loss.backward()\n",
    "        optimizer.step()\n",
    "    \n",
    "    if (i+1)%5000 == 0:\n",
    "      print(f\"Epoch [{epoch + 1}/{num_epochs}], Step [{i+1}/ {n_total_steps}], Loss: {loss.item():.4f}\")\n",
    "      torch.save(model.state_dict(), './results/model.pth')\n",
    "      torch.save(optimizer.state_dict(), './results/optimizer.pth')"
   ]
  },
  {
   "cell_type": "code",
   "execution_count": null,
   "metadata": {},
   "outputs": [],
   "source": [
    "def train(model, train_loader, criterion, optimizer, nepochs):\n",
    "    train_losses, train_counter = [], []\n",
    "    for batch_idx, (inputs, target) in enumerate(train_loader):\n",
    "        outputs = model(inputs)\n",
    "        loss = criterion(outputs, targets)\n",
    "        \n",
    "        optimizer.zero_grad()\n",
    "        loss.backward()\n",
    "        optimizer.step()\n",
    "        \n",
    "        if (i+1)%5000 == 0:\n",
    "            print(f\"Epoch [{epoch}], Step [{i+1}/ {n_total_steps}], Loss: {loss.item():.4f}\")\n",
    "\n",
    "    torch.save(model.state_dict(), '/results/model.pth')\n",
    "    torch.save(optimizer.state_dict(), '/results/optimizer.pth')"
   ]
  },
  {
   "cell_type": "code",
   "execution_count": 18,
   "metadata": {},
   "outputs": [
    {
     "name": "stdout",
     "output_type": "stream",
     "text": [
      "Epoch [1/4], Step [2000/ 15000], Loss: 2.1434\n",
      "Epoch [1/4], Step [4000/ 15000], Loss: 2.0339\n",
      "Epoch [1/4], Step [6000/ 15000], Loss: 1.9574\n",
      "Epoch [1/4], Step [8000/ 15000], Loss: 1.8335\n",
      "Epoch [1/4], Step [10000/ 15000], Loss: 1.8662\n",
      "Epoch [1/4], Step [12000/ 15000], Loss: 0.9262\n",
      "Epoch [1/4], Step [14000/ 15000], Loss: 0.9609\n",
      "Epoch [2/4], Step [2000/ 15000], Loss: 0.4449\n",
      "Epoch [2/4], Step [4000/ 15000], Loss: 0.5042\n",
      "Epoch [2/4], Step [6000/ 15000], Loss: 0.6619\n",
      "Epoch [2/4], Step [8000/ 15000], Loss: 0.8652\n",
      "Epoch [2/4], Step [10000/ 15000], Loss: 1.2647\n",
      "Epoch [2/4], Step [12000/ 15000], Loss: 0.3718\n",
      "Epoch [2/4], Step [14000/ 15000], Loss: 0.6373\n",
      "Epoch [3/4], Step [2000/ 15000], Loss: 0.1224\n",
      "Epoch [3/4], Step [4000/ 15000], Loss: 0.1661\n",
      "Epoch [3/4], Step [6000/ 15000], Loss: 0.4187\n",
      "Epoch [3/4], Step [8000/ 15000], Loss: 0.6744\n",
      "Epoch [3/4], Step [10000/ 15000], Loss: 1.1539\n",
      "Epoch [3/4], Step [12000/ 15000], Loss: 0.2607\n",
      "Epoch [3/4], Step [14000/ 15000], Loss: 0.6926\n",
      "Epoch [4/4], Step [2000/ 15000], Loss: 0.0675\n",
      "Epoch [4/4], Step [4000/ 15000], Loss: 0.0831\n",
      "Epoch [4/4], Step [6000/ 15000], Loss: 0.3528\n",
      "Epoch [4/4], Step [8000/ 15000], Loss: 0.5753\n",
      "Epoch [4/4], Step [10000/ 15000], Loss: 1.1399\n",
      "Epoch [4/4], Step [12000/ 15000], Loss: 0.2070\n",
      "Epoch [4/4], Step [14000/ 15000], Loss: 0.7569\n"
     ]
    }
   ],
   "source": [
    "# 5. Train the model\n",
    "for epoch in range(num_epochs):\n",
    "    for i, (inputs, targets) in enumerate(train_loader):\n",
    "\n",
    "       \n",
    "\n",
    " \n",
    "        \n",
    "        "
   ]
  },
  {
   "cell_type": "code",
   "execution_count": 21,
   "metadata": {},
   "outputs": [
    {
     "data": {
      "text/plain": [
       "<All keys matched successfully>"
      ]
     },
     "execution_count": 21,
     "metadata": {},
     "output_type": "execute_result"
    }
   ],
   "source": [
    "# print('Finished Training')\n",
    "FILE = './model/mnist.pth'\n",
    "# torch.save(model.state_dict(), FILE)\n",
    "\n",
    "\n",
    "model = ConvNet()\n",
    "model.load_state_dict(torch.load(FILE)) # it takes the loaded dictionary, not the path file itself"
   ]
  }
 ],
 "metadata": {
  "interpreter": {
   "hash": "c111c98ab16bb2146b3750ff96300d2ea24b959b05391bbc2c1f7544a5d2c2ae"
  },
  "kernelspec": {
   "display_name": "Python 3.9.7 ('pytorch')",
   "language": "python",
   "name": "python3"
  },
  "language_info": {
   "codemirror_mode": {
    "name": "ipython",
    "version": 3
   },
   "file_extension": ".py",
   "mimetype": "text/x-python",
   "name": "python",
   "nbconvert_exporter": "python",
   "pygments_lexer": "ipython3",
   "version": "3.9.7"
  },
  "orig_nbformat": 4
 },
 "nbformat": 4,
 "nbformat_minor": 2
}
