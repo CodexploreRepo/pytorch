{
 "cells": [
  {
   "cell_type": "markdown",
   "metadata": {},
   "source": [
    "# Dataset & DataLoader"
   ]
  },
  {
   "cell_type": "code",
   "execution_count": 2,
   "metadata": {},
   "outputs": [],
   "source": [
    "import torch\n",
    "from torch.utils.data import Dataset, DataLoader\n",
    "import numpy as np\n",
    "import math"
   ]
  },
  {
   "cell_type": "markdown",
   "metadata": {},
   "source": [
    "# Dataset Class"
   ]
  },
  {
   "cell_type": "code",
   "execution_count": 8,
   "metadata": {},
   "outputs": [],
   "source": [
    "class WineDataset(Dataset):\n",
    "    def __init__(self):\n",
    "        #data loading\n",
    "        xy = np.loadtxt('./data/wine.csv', delimiter=',', dtype=np.float32, skiprows=1) #skiprows=1 skip header row\n",
    "        self.x = torch.from_numpy(xy[:, 1:])\n",
    "        self.y = torch.from_numpy(xy[:, [0]]) # [0]  : (n_samples, 1)\n",
    "        self.n_samples = xy.shape[0]\n",
    "\n",
    "    def __getitem__(self, index):\n",
    "        return self.x[index], self.y[index]\n",
    "\n",
    "    def __len__(self):\n",
    "        return self.n_samples\n"
   ]
  },
  {
   "cell_type": "code",
   "execution_count": 10,
   "metadata": {},
   "outputs": [
    {
     "name": "stdout",
     "output_type": "stream",
     "text": [
      "tensor([1.4230e+01, 1.7100e+00, 2.4300e+00, 1.5600e+01, 1.2700e+02, 2.8000e+00,\n",
      "        3.0600e+00, 2.8000e-01, 2.2900e+00, 5.6400e+00, 1.0400e+00, 3.9200e+00,\n",
      "        1.0650e+03]) tensor([1.])\n"
     ]
    }
   ],
   "source": [
    "dataset = WineDataset()\n",
    "\n",
    "features, label = dataset[0] #first row in the dataset\n",
    "print(features, label)"
   ]
  },
  {
   "cell_type": "markdown",
   "metadata": {},
   "source": [
    "# DataLoader"
   ]
  },
  {
   "cell_type": "code",
   "execution_count": 12,
   "metadata": {},
   "outputs": [],
   "source": [
    "batch_size = 4\n",
    "dataloader = DataLoader(dataset=dataset,\n",
    "                        batch_size=batch_size,\n",
    "                        shuffle=True,\n",
    "                        num_workers=2,\n",
    "                        )"
   ]
  },
  {
   "cell_type": "code",
   "execution_count": 14,
   "metadata": {},
   "outputs": [
    {
     "name": "stdout",
     "output_type": "stream",
     "text": [
      "epoch 1/2, step 5/45, inputs: 4 samples\n",
      "epoch 1/2, step 10/45, inputs: 4 samples\n",
      "epoch 1/2, step 15/45, inputs: 4 samples\n",
      "epoch 1/2, step 20/45, inputs: 4 samples\n",
      "epoch 1/2, step 25/45, inputs: 4 samples\n",
      "epoch 1/2, step 30/45, inputs: 4 samples\n",
      "epoch 1/2, step 35/45, inputs: 4 samples\n",
      "epoch 1/2, step 40/45, inputs: 4 samples\n",
      "epoch 1/2, step 45/45, inputs: 2 samples\n",
      "epoch 2/2, step 5/45, inputs: 4 samples\n",
      "epoch 2/2, step 10/45, inputs: 4 samples\n",
      "epoch 2/2, step 15/45, inputs: 4 samples\n",
      "epoch 2/2, step 20/45, inputs: 4 samples\n",
      "epoch 2/2, step 25/45, inputs: 4 samples\n",
      "epoch 2/2, step 30/45, inputs: 4 samples\n",
      "epoch 2/2, step 35/45, inputs: 4 samples\n",
      "epoch 2/2, step 40/45, inputs: 4 samples\n",
      "epoch 2/2, step 45/45, inputs: 2 samples\n"
     ]
    }
   ],
   "source": [
    "num_epochs = 2 \n",
    "total_samples = len(dataset)\n",
    "n_iterations = math.ceil(total_samples/batch_size) #n_iterations per epoch\n",
    "\n",
    "for epoch in range(num_epochs):\n",
    "    for i, (inputs, labels) in enumerate(dataloader):\n",
    "        # forward backward, update\n",
    "        if (i+1) % 5 == 0:\n",
    "            print(f\"Epoch {epoch + 1}/{num_epochs}, step {i+1}/{n_iterations}, inputs: {inputs.shape[0]} samples\")\n",
    "\n"
   ]
  }
 ],
 "metadata": {
  "interpreter": {
   "hash": "c111c98ab16bb2146b3750ff96300d2ea24b959b05391bbc2c1f7544a5d2c2ae"
  },
  "kernelspec": {
   "display_name": "Python 3.9.7 ('pytorch')",
   "language": "python",
   "name": "python3"
  },
  "language_info": {
   "codemirror_mode": {
    "name": "ipython",
    "version": 3
   },
   "file_extension": ".py",
   "mimetype": "text/x-python",
   "name": "python",
   "nbconvert_exporter": "python",
   "pygments_lexer": "ipython3",
   "version": "3.9.7"
  },
  "orig_nbformat": 4
 },
 "nbformat": 4,
 "nbformat_minor": 2
}
