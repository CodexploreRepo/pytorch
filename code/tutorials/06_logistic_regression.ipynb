{
 "cells": [
  {
   "cell_type": "markdown",
   "metadata": {},
   "source": [
    "# Logistic Regression"
   ]
  },
  {
   "cell_type": "code",
   "execution_count": 1,
   "metadata": {},
   "outputs": [],
   "source": [
    "import torch\n",
    "import torch.nn as nn\n",
    "import numpy as np\n",
    "\n",
    "from sklearn import datasets\n",
    "from sklearn.preprocessing import StandardScaler\n",
    "from sklearn.model_selection import train_test_split"
   ]
  },
  {
   "cell_type": "code",
   "execution_count": 9,
   "metadata": {},
   "outputs": [
    {
     "name": "stdout",
     "output_type": "stream",
     "text": [
      "Epoch  10: Loss: 0.569\n",
      "Epoch  20: Loss: 0.478\n",
      "Epoch  30: Loss: 0.418\n",
      "Epoch  40: Loss: 0.376\n",
      "Epoch  50: Loss: 0.344\n",
      "Epoch  60: Loss: 0.320\n",
      "Epoch  70: Loss: 0.300\n",
      "Epoch  80: Loss: 0.284\n",
      "Epoch  90: Loss: 0.270\n",
      "Epoch 100: Loss: 0.258\n",
      "Accuracy = 0.9737\n"
     ]
    }
   ],
   "source": [
    "#0) Prepare data\n",
    "bc = datasets.load_breast_cancer()\n",
    "X, y = bc.data, bc.target\n",
    "\n",
    "n_samples, n_features = X.shape\n",
    "#print(n_samples, n_features) #569 samples with 30 features\n",
    "\n",
    "X_train, X_test, y_train, y_test = train_test_split(X, y, test_size=0.2, random_state=2022)\n",
    "\n",
    "#Scaling\n",
    "sc = StandardScaler()\n",
    "X_train = sc.fit_transform(X_train)\n",
    "X_test = sc.transform(X_test)\n",
    "\n",
    "#Convert to Torch\n",
    "X_train = torch.from_numpy(X_train.astype(np.float32)) #need to convert to float \n",
    "y_train = torch.from_numpy(y_train.astype(np.float32)) #need to convert to float\n",
    "X_test = torch.from_numpy(X_test.astype(np.float32))   #need to convert to float\n",
    "y_test = torch.from_numpy(y_test.astype(np.float32))   #need to convert to float\n",
    "\n",
    "#Convert y into from [0,1,2,3] ==> [[0], [1], [1]]\n",
    "y_train = y_train.view(y_train.shape[0], 1)\n",
    "y_test = y_test.view(y_test.shape[0], 1)\n",
    "\n",
    "#1) Model: f = wx + b, sigmoid at the end\n",
    "class LogisticRegression(nn.Module):\n",
    "    def __init__(self, n_input_features, output_size):\n",
    "        #super(Model, self).__init__() = super().__init__(self)\n",
    "        #this allows to init the model without any input paras: model = LogisticRegression()\n",
    "        super(LogisticRegression, self).__init__()\n",
    "        self.linear = nn.Linear(n_input_features, output_size)\n",
    "    \n",
    "    def forward(self, x):\n",
    "        y_predicted = torch.sigmoid(self.linear(x))\n",
    "        return y_predicted\n",
    "\n",
    "input_size = n_features\n",
    "output_size = 1\n",
    "\n",
    "model = LogisticRegression(n_features, output_size)\n",
    "\n",
    "#2) Loss and Optimizer\n",
    "num_epochs = 100\n",
    "learning_rate = 0.01\n",
    "criterion = nn.BCELoss() #binary cross-entropy\n",
    "optimmizer = torch.optim.SGD(model.parameters(), lr=learning_rate)\n",
    "\n",
    "#3) Training Loop\n",
    "\n",
    "for epoch in range(num_epochs):\n",
    "    #forward pass & loss\n",
    "    y_predicted = model.forward(X_train)\n",
    "    loss = criterion(y_predicted, y_train)\n",
    "    #backward pass\n",
    "    loss.backward()\n",
    "\n",
    "    #weight update\n",
    "    optimmizer.step()\n",
    "    optimmizer.zero_grad()\n",
    "\n",
    "    if (epoch + 1) % 10 == 0:\n",
    "        print(f\"Epoch {epoch+1:>3,}: Loss: {loss.item():.3f}\")\n",
    "\n",
    "#Evaludation:\n",
    "with torch.no_grad(): #to ensure this is not in the computation graph\n",
    "    y_predicted = model(X_test)\n",
    "    y_predicted_cls = y_predicted.round() #Since sigmoid return btw 0~1\n",
    "    acc = y_predicted_cls.eq(y_test).sum()/float(y_test.shape[0])\n",
    "    print(f\"Accuracy = {acc:.4f}\")\n",
    "\n"
   ]
  }
 ],
 "metadata": {
  "interpreter": {
   "hash": "c111c98ab16bb2146b3750ff96300d2ea24b959b05391bbc2c1f7544a5d2c2ae"
  },
  "kernelspec": {
   "display_name": "Python 3.9.7 ('pytorch')",
   "language": "python",
   "name": "python3"
  },
  "language_info": {
   "codemirror_mode": {
    "name": "ipython",
    "version": 3
   },
   "file_extension": ".py",
   "mimetype": "text/x-python",
   "name": "python",
   "nbconvert_exporter": "python",
   "pygments_lexer": "ipython3",
   "version": "3.9.7"
  },
  "orig_nbformat": 4
 },
 "nbformat": 4,
 "nbformat_minor": 2
}
